{
  "nbformat": 4,
  "nbformat_minor": 0,
  "metadata": {
    "colab": {
      "provenance": [],
      "authorship_tag": "ABX9TyPPK28DqC4fF2AF6hSORe69",
      "include_colab_link": true
    },
    "kernelspec": {
      "name": "python3",
      "display_name": "Python 3"
    },
    "language_info": {
      "name": "python"
    }
  },
  "cells": [
    {
      "cell_type": "markdown",
      "metadata": {
        "id": "view-in-github",
        "colab_type": "text"
      },
      "source": [
        "<a href=\"https://colab.research.google.com/github/SartajHundal/DroneSimulations/blob/main/DroneLocalization.ipynb\" target=\"_parent\"><img src=\"https://colab.research.google.com/assets/colab-badge.svg\" alt=\"Open In Colab\"/></a>"
      ]
    },
    {
      "cell_type": "code",
      "source": [
        "from PIL import Image\n",
        "from google.colab import drive\n",
        "import math\n",
        "import numpy as np\n",
        "import random"
      ],
      "metadata": {
        "id": "EiNiepD44Vqt"
      },
      "execution_count": 5,
      "outputs": []
    },
    {
      "cell_type": "code",
      "source": [
        "def load_occupancy_map(map_path):\n",
        "    \"\"\"\n",
        "    Load the occupancy map from a PNG file.\n",
        "\n",
        "    Parameters:\n",
        "    - map_path (str): Path to the PNG file containing the occupancy map.\n",
        "\n",
        "    Returns:\n",
        "    - occupancy_map (numpy.ndarray): Occupancy map of the environment.\n",
        "    \"\"\"\n",
        "    # Load the PNG image\n",
        "    map_image = Image.open(map_path)\n",
        "\n",
        "    # Convert the image to grayscale\n",
        "    map_gray = map_image.convert('L')\n",
        "\n",
        "    # Convert the image to a numpy array\n",
        "    occupancy_map = np.array(map_gray)\n",
        "\n",
        "    return occupancy_map"
      ],
      "metadata": {
        "id": "fuI212lR6HAg"
      },
      "execution_count": 6,
      "outputs": []
    },
    {
      "cell_type": "code",
      "source": [
        "def measure_distance(occupancy_map, x0, y0, max_steps=200):\n",
        "    \"\"\"\n",
        "    Simulate lidar measurements.\n",
        "\n",
        "    Parameters:\n",
        "    - occupancy_map (numpy.ndarray): Occupancy map of the environment.\n",
        "    - x0 (float): x-coordinate of the drone's current position.\n",
        "    - y0 (float): y-coordinate of the drone's current position.\n",
        "    - max_steps (int): Maximum number of steps for lidar measurements.\n",
        "\n",
        "    Returns:\n",
        "    - measurements (list): List of lidar measurements.\n",
        "    \"\"\"\n",
        "    measurements = []\n",
        "    map_height, map_width = occupancy_map.shape\n",
        "\n",
        "    for angle_degrees in range(0, 360, 10):\n",
        "        angle_radians = math.radians(angle_degrees)\n",
        "        vx = math.cos(angle_radians)\n",
        "        vy = math.sin(angle_radians)\n",
        "        x = x0\n",
        "        y = y0\n",
        "\n",
        "        for step in range(max_steps):\n",
        "            x += vx\n",
        "            y += vy\n",
        "\n",
        "            if x >= map_width or x < 0 or y >= map_height or y < 0:\n",
        "                measurements.append(-1)\n",
        "                break\n",
        "\n",
        "            if occupancy_map[int(y), int(x)] > 0:\n",
        "                distance = math.sqrt((x - x0)**2 + (y - y0)**2)\n",
        "                measurements.append(distance)\n",
        "                break\n",
        "\n",
        "            if step == max_steps - 1:\n",
        "                measurements.append(-1)\n",
        "\n",
        "    return measurements"
      ],
      "metadata": {
        "id": "8L8hw0PC2weJ"
      },
      "execution_count": 7,
      "outputs": []
    },
    {
      "cell_type": "code",
      "source": [
        "def add_odometry_noise(odom_x, odom_y, variance=4.4):\n",
        "    \"\"\"\n",
        "    Add Gaussian noise to odometry measurements.\n",
        "\n",
        "    Parameters:\n",
        "    - odom_x (float): Odometry measurement for x-axis.\n",
        "    - odom_y (float): Odometry measurement for y-axis.\n",
        "    - variance (float): Variance of the Gaussian noise.\n",
        "\n",
        "    Returns:\n",
        "    - noisy_odom_x (float): Noisy odometry measurement for x-axis.\n",
        "    - noisy_odom_y (float): Noisy odometry measurement for y-axis.\n",
        "    \"\"\"\n",
        "    noisy_odom_x = odom_x + random.gauss(0, math.sqrt(variance))\n",
        "    noisy_odom_y = odom_y + random.gauss(0, math.sqrt(variance))\n",
        "    return noisy_odom_x, noisy_odom_y"
      ],
      "metadata": {
        "id": "2Sm51HOD48KN"
      },
      "execution_count": 8,
      "outputs": []
    },
    {
      "cell_type": "code",
      "source": [
        "def add_lidar_noise(measurements, variance=0.1):\n",
        "    \"\"\"\n",
        "    Add Gaussian noise to lidar measurements.\n",
        "\n",
        "    Parameters:\n",
        "    - measurements (list): List of lidar measurements.\n",
        "    - variance (float): Variance of the Gaussian noise.\n",
        "\n",
        "    Returns:\n",
        "    - noisy_measurements (list): List of noisy lidar measurements.\n",
        "    \"\"\"\n",
        "    return [distance + random.gauss(0, math.sqrt(variance)) if distance != -1 else -1 for distance in measurements]"
      ],
      "metadata": {
        "id": "UC3zx-_p5EZt"
      },
      "execution_count": 9,
      "outputs": []
    },
    {
      "cell_type": "code",
      "source": [
        "def determine_drone_path(occupancy_map, sensor_log):\n",
        "    \"\"\"\n",
        "    Determine the drone's path based on sensor data and occupancy map.\n",
        "\n",
        "    Parameters:\n",
        "    - occupancy_map (numpy.ndarray): Occupancy map of the environment.\n",
        "    - sensor_log (list): List of sensor log data.\n",
        "\n",
        "    Returns:\n",
        "    - drone_path (list): List of coordinates representing the drone's path.\n",
        "    \"\"\"\n",
        "    x, y = 0, 0\n",
        "    drone_path = [(x, y)]\n",
        "\n",
        "    for frame_data in sensor_log:\n",
        "        noisy_odom_x, noisy_odom_y = add_odometry_noise(frame_data['odometry_x'], frame_data['odometry_y'])\n",
        "        x += noisy_odom_x\n",
        "        y += noisy_odom_y\n",
        "\n",
        "        lidar_measurements = measure_distance(occupancy_map, x, y)\n",
        "        noisy_lidar_measurements = add_lidar_noise(lidar_measurements)\n",
        "\n",
        "        min_distance = float('inf')\n",
        "        next_x, next_y = x, y\n",
        "        for angle, distance in enumerate(noisy_lidar_measurements):\n",
        "            if distance != -1 and distance < min_distance:\n",
        "                min_distance = distance\n",
        "                next_x = x + distance * math.cos(math.radians(angle * 10))\n",
        "                next_y = y + distance * math.sin(math.radians(angle * 10))\n",
        "\n",
        "        x, y = next_x, next_y\n",
        "        drone_path.append((x, y))\n",
        "\n",
        "    return drone_path"
      ],
      "metadata": {
        "id": "f2GRUkbp5Hvs"
      },
      "execution_count": 10,
      "outputs": []
    },
    {
      "cell_type": "code",
      "source": [
        "# Load occupancy map and sensor log data (update paths as needed)\n",
        "occupancy_map_path = '/path/to/occupancy_map.png'\n",
        "sensor_log_path = '/path/to/sensor_log.jsonl'\n",
        "\n",
        "occupancy_map = load_occupancy_map(occupancy_map_path)\n",
        "sensor_log = load_sensor_log(sensor_log_path)\n",
        "\n",
        "# Determine drone's path\n",
        "drone_path = determine_drone_path(occupancy_map, sensor_log)\n",
        "\n",
        "# Output the drone's path to a CSV file (optional)\n",
        "output_path = '/path/to/drone_path.csv'\n",
        "with open(output_path, 'w') as f:\n",
        "    f.write('x,y\\n')\n",
        "    for x, y in drone_path:\n",
        "        f.write(f'{x},{y}\\n')"
      ],
      "metadata": {
        "id": "4IWNXcaV5aot"
      },
      "execution_count": null,
      "outputs": []
    }
  ]
}
