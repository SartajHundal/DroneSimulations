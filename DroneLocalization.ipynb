{
  "nbformat": 4,
  "nbformat_minor": 0,
  "metadata": {
    "colab": {
      "provenance": [],
      "mount_file_id": "10JnwLEBZ7Xy1LzzMHNoNpGZdRPyzYWQj",
      "authorship_tag": "ABX9TyPOxSU9C8t5PvRyVourqfhk",
      "include_colab_link": true
    },
    "kernelspec": {
      "name": "python3",
      "display_name": "Python 3"
    },
    "language_info": {
      "name": "python"
    }
  },
  "cells": [
    {
      "cell_type": "markdown",
      "metadata": {
        "id": "view-in-github",
        "colab_type": "text"
      },
      "source": [
        "<a href=\"https://colab.research.google.com/github/SartajHundal/DroneSimulations/blob/main/DroneLocalization.ipynb\" target=\"_parent\"><img src=\"https://colab.research.google.com/assets/colab-badge.svg\" alt=\"Open In Colab\"/></a>"
      ]
    },
    {
      "cell_type": "code",
      "source": [
        "from PIL import Image\n",
        "from google.colab import drive\n",
        "import json\n",
        "import math\n",
        "import numpy as np\n",
        "import pandas as pd\n",
        "import random\n",
        "\n",
        "# NEW (22.02.24): When you are doing a mv in Google Drive, the Colab\n",
        "# notebook does not sync on the left-hand 'Files' pane until refreshing"
      ],
      "metadata": {
        "id": "EiNiepD44Vqt"
      },
      "execution_count": 17,
      "outputs": []
    },
    {
      "cell_type": "code",
      "source": [
        "def load_occupancy_map(map_path):\n",
        "    \"\"\"\n",
        "    Load the occupancy map from a PNG file.\n",
        "\n",
        "    Parameters:\n",
        "    - map_path (str): Path to the PNG file containing the occupancy map.\n",
        "\n",
        "    Returns:\n",
        "    - occupancy_map (numpy.ndarray): Occupancy map of the environment.\n",
        "    \"\"\"\n",
        "    # Load the PNG image\n",
        "    map_image = Image.open(map_path)\n",
        "\n",
        "    # Convert the image to grayscale\n",
        "    map_gray = map_image.convert('L')\n",
        "\n",
        "    # Convert the image to a numpy array\n",
        "    occupancy_map = np.array(map_gray)\n",
        "\n",
        "    return occupancy_map\n",
        "\n",
        "\n",
        "def load_sensor_log(log_path):\n",
        "    with open(log_path, 'r') as f:\n",
        "        return [json.loads(line) for line in f]"
      ],
      "metadata": {
        "id": "fuI212lR6HAg"
      },
      "execution_count": 10,
      "outputs": []
    },
    {
      "cell_type": "code",
      "source": [
        "def measure_distance(occupancy_map, x0, y0, max_steps=200):\n",
        "    \"\"\"\n",
        "    Simulate lidar measurements.\n",
        "\n",
        "    Parameters:\n",
        "    - occupancy_map (numpy.ndarray): Occupancy map of the environment.\n",
        "    - x0 (float): x-coordinate of the drone's current position.\n",
        "    - y0 (float): y-coordinate of the drone's current position.\n",
        "    - max_steps (int): Maximum number of steps for lidar measurements.\n",
        "\n",
        "    Returns:\n",
        "    - measurements (list): List of lidar measurements.\n",
        "    \"\"\"\n",
        "    measurements = []\n",
        "    map_height, map_width = occupancy_map.shape\n",
        "\n",
        "    for angle_degrees in range(0, 360, 10):\n",
        "        angle_radians = math.radians(angle_degrees)\n",
        "        vx = math.cos(angle_radians)\n",
        "        vy = math.sin(angle_radians)\n",
        "        x = x0\n",
        "        y = y0\n",
        "\n",
        "        for step in range(max_steps):\n",
        "            x += vx\n",
        "            y += vy\n",
        "\n",
        "            if x >= map_width or x < 0 or y >= map_height or y < 0:\n",
        "                measurements.append(-1)\n",
        "                break\n",
        "\n",
        "            if occupancy_map[int(y), int(x)] > 0:\n",
        "                distance = math.sqrt((x - x0)**2 + (y - y0)**2)\n",
        "                measurements.append(distance)\n",
        "                break\n",
        "\n",
        "            if step == max_steps - 1:\n",
        "                measurements.append(-1)\n",
        "\n",
        "    return measurements"
      ],
      "metadata": {
        "id": "8L8hw0PC2weJ"
      },
      "execution_count": 11,
      "outputs": []
    },
    {
      "cell_type": "code",
      "source": [
        "def add_odometry_noise(odom_x, odom_y, variance=4.4):\n",
        "    \"\"\"\n",
        "    Add Gaussian noise to odometry measurements.\n",
        "\n",
        "    Parameters:\n",
        "    - odom_x (float): Odometry measurement for x-axis.\n",
        "    - odom_y (float): Odometry measurement for y-axis.\n",
        "    - variance (float): Variance of the Gaussian noise.\n",
        "\n",
        "    Returns:\n",
        "    - noisy_odom_x (float): Noisy odometry measurement for x-axis.\n",
        "    - noisy_odom_y (float): Noisy odometry measurement for y-axis.\n",
        "    \"\"\"\n",
        "    noisy_odom_x = odom_x + random.gauss(0, math.sqrt(variance))\n",
        "    noisy_odom_y = odom_y + random.gauss(0, math.sqrt(variance))\n",
        "    return noisy_odom_x, noisy_odom_y"
      ],
      "metadata": {
        "id": "2Sm51HOD48KN"
      },
      "execution_count": 5,
      "outputs": []
    },
    {
      "cell_type": "code",
      "source": [
        "def add_lidar_noise(measurements, variance=0.1):\n",
        "    \"\"\"\n",
        "    Add Gaussian noise to lidar measurements.\n",
        "\n",
        "    Parameters:\n",
        "    - measurements (list): List of lidar measurements.\n",
        "    - variance (float): Variance of the Gaussian noise.\n",
        "\n",
        "    Returns:\n",
        "    - noisy_measurements (list): List of noisy lidar measurements.\n",
        "    \"\"\"\n",
        "    return [distance + random.gauss(0, math.sqrt(variance)) if distance != -1 else -1 for distance in measurements]"
      ],
      "metadata": {
        "id": "UC3zx-_p5EZt"
      },
      "execution_count": 6,
      "outputs": []
    },
    {
      "cell_type": "code",
      "source": [
        "def determine_drone_path(occupancy_map, sensor_log):\n",
        "    \"\"\"\n",
        "    Determine the drone's path based on sensor data and occupancy map.\n",
        "\n",
        "    Parameters:\n",
        "    - occupancy_map (numpy.ndarray): Occupancy map of the environment.\n",
        "    - sensor_log (list): List of sensor log data.\n",
        "\n",
        "    Returns:\n",
        "    - drone_path (list): List of coordinates representing the drone's path.\n",
        "    \"\"\"\n",
        "    x, y = 0, 0\n",
        "    drone_path = [(x, y)]\n",
        "\n",
        "    for frame_data in sensor_log:\n",
        "        noisy_odom_x, noisy_odom_y = add_odometry_noise(frame_data['odometry_x'], frame_data['odometry_y'])\n",
        "        x += noisy_odom_x\n",
        "        y += noisy_odom_y\n",
        "\n",
        "        lidar_measurements = measure_distance(occupancy_map, x, y)\n",
        "        noisy_lidar_measurements = add_lidar_noise(lidar_measurements)\n",
        "\n",
        "        min_distance = float('inf')\n",
        "        next_x, next_y = x, y\n",
        "        for angle, distance in enumerate(noisy_lidar_measurements):\n",
        "            if distance != -1 and distance < min_distance:\n",
        "                min_distance = distance\n",
        "                next_x = x + distance * math.cos(math.radians(angle * 10))\n",
        "                next_y = y + distance * math.sin(math.radians(angle * 10))\n",
        "\n",
        "        x, y = next_x, next_y\n",
        "        drone_path.append((x, y))\n",
        "\n",
        "    return drone_path"
      ],
      "metadata": {
        "id": "f2GRUkbp5Hvs"
      },
      "execution_count": 7,
      "outputs": []
    },
    {
      "cell_type": "code",
      "source": [
        "# Load occupancy map and sensor log data (update paths as needed)\n",
        "occupancy_map_path = \"/content/drive/MyDrive/Drone (shared)/map_stadi_bg.png\"\n",
        "sensor_log_path = \"/content/drive/MyDrive/Drone (shared)/drone_log.jsonl\"\n",
        "\n",
        "occupancy_map = load_occupancy_map(occupancy_map_path)\n",
        "sensor_log = load_sensor_log(sensor_log_path)\n",
        "\n",
        "# Determine drone's path\n",
        "drone_path = determine_drone_path(occupancy_map, sensor_log)\n",
        "df = pd.DataFrame(drone_path, columns=['x', 'y'])\n",
        "print(df)\n",
        "\n",
        "# Read JSONL file into a DataFrame\n",
        "df_0 = pd.read_json(sensor_log_path, lines=True)\n",
        "\n",
        "# Display the DataFrame for EDA; we'll use\n",
        "# this for Pearson, MAPE / MASE, etc. later\n",
        "print(df_0)\n"
      ],
      "metadata": {
        "id": "4IWNXcaV5aot",
        "colab": {
          "base_uri": "https://localhost:8080/"
        },
        "outputId": "50e11e5c-e09b-4b32-cad6-cceb3a644c04"
      },
      "execution_count": 26,
      "outputs": [
        {
          "output_type": "stream",
          "name": "stdout",
          "text": [
            "              x           y\n",
            "0      0.000000    0.000000\n",
            "1     93.660322    7.592221\n",
            "2     80.983360   -7.544099\n",
            "3     69.591479  -20.176928\n",
            "4     60.819219  -28.007333\n",
            "..          ...         ...\n",
            "132  400.650049 -615.626539\n",
            "133  392.045948 -638.213420\n",
            "134  381.777689 -665.136259\n",
            "135  368.499658 -690.677819\n",
            "136  371.015803 -725.095531\n",
            "\n",
            "[137 rows x 2 columns]\n",
            "     odometry_x  odometry_y                                              lidar\n",
            "0     -0.380680    5.874107  [31.046601487401276, 31.657418178520697, 33.50...\n",
            "1    -12.140913  -10.468727  [30.868371257740733, 32.55997471557303, 34.364...\n",
            "2    -12.171528  -10.099245  [32.52217980945568, 31.302490262596827, 32.898...\n",
            "3     -6.167448   -4.434787  [30.398328674199924, 32.22570009019953, 45.403...\n",
            "4      2.103860  -19.712639  [31.112962867196075, 30.934269232710083, 34.64...\n",
            "..          ...         ...                                                ...\n",
            "131   -1.867480   -9.496820  [77.72277427567646, 183.16464966991614, 156.74...\n",
            "132   -7.789038  -27.427332  [26.33391976703109, 30.130529698410466, 31.256...\n",
            "133   -8.052989  -27.497824  [31.70767126996588, 27.57427810491989, 78.5300...\n",
            "134  -14.196569  -26.159989  [185.1696150203534, 189.9261988085875, 93.7878...\n",
            "135    3.925438  -32.527085  [49.24532246794766, 189.61266839052024, -1, 12...\n",
            "\n",
            "[136 rows x 3 columns]\n"
          ]
        }
      ]
    }
  ]
}